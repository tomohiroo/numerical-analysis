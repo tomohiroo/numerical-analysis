{
 "cells": [
  {
   "cell_type": "markdown",
   "metadata": {},
   "source": [
    "## 計算環境\n",
    "MacBook Pro (13-inch, 2016, Two Thunderbolt 3 ports)\n",
    "\n",
    "プロセッサ: 2 GHz Intel Core i5\n",
    "\n",
    "メモリ: 8 GB 1867 MHz LPDDR3\n",
    "\n",
    "ソフト: Jupyter notebook (5.4.0)\n",
    "\n",
    "言語: Python 3.6.4"
   ]
  },
  {
   "cell_type": "markdown",
   "metadata": {},
   "source": [
    "# 大問1"
   ]
  },
  {
   "cell_type": "code",
   "execution_count": 1,
   "metadata": {},
   "outputs": [],
   "source": [
    "import numpy as np"
   ]
  },
  {
   "cell_type": "code",
   "execution_count": 2,
   "metadata": {},
   "outputs": [],
   "source": [
    "# 初期化\n",
    "\n",
    "A_1 = np.array([[1, 0, 0], [0, -5, 1], [0, 3, 0]])\n",
    "A_2 = np.array([[1, 0, 0], [0, 0, -1], [0, 3, 0]])\n",
    "\n",
    "v = np.array([[1], [1], [1]])"
   ]
  },
  {
   "cell_type": "code",
   "execution_count": 3,
   "metadata": {},
   "outputs": [],
   "source": [
    "def power_method(A, x):\n",
    "    tol = 1e-6\n",
    "    error = tol + 1\n",
    "    x_old = x\n",
    "\n",
    "    while error > tol:\n",
    "        y = np.dot(A, x_old)\n",
    "        x = y / np.linalg.norm(y)\n",
    "        error = min([np.linalg.norm(x - x_old), np.linalg.norm(x + x_old)]) / np.linalg.norm(x)\n",
    "        print(x - x_old)\n",
    "        x_old = x\n",
    "        \n",
    "    return x"
   ]
  },
  {
   "cell_type": "code",
   "execution_count": 4,
   "metadata": {},
   "outputs": [],
   "source": [
    "def power_method(A, x):\n",
    "    for i in range(5000):\n",
    "        y = np.dot(A, x)\n",
    "        x = y / np.linalg.norm(y)\n",
    "        if i > 4990:\n",
    "            print(\"=============\")\n",
    "            print(x)"
   ]
  },
  {
   "cell_type": "markdown",
   "metadata": {},
   "source": [
    "## (A1)"
   ]
  },
  {
   "cell_type": "code",
   "execution_count": 5,
   "metadata": {
    "scrolled": true
   },
   "outputs": [
    {
     "name": "stdout",
     "output_type": "stream",
     "text": [
      "=============\n",
      "[[ 0.        ]\n",
      " [ 0.87939705]\n",
      " [-0.47608909]]\n",
      "=============\n",
      "[[ 0.        ]\n",
      " [-0.87939705]\n",
      " [ 0.47608909]]\n",
      "=============\n",
      "[[ 0.        ]\n",
      " [ 0.87939705]\n",
      " [-0.47608909]]\n",
      "=============\n",
      "[[ 0.        ]\n",
      " [-0.87939705]\n",
      " [ 0.47608909]]\n",
      "=============\n",
      "[[ 0.        ]\n",
      " [ 0.87939705]\n",
      " [-0.47608909]]\n",
      "=============\n",
      "[[ 0.        ]\n",
      " [-0.87939705]\n",
      " [ 0.47608909]]\n",
      "=============\n",
      "[[ 0.        ]\n",
      " [ 0.87939705]\n",
      " [-0.47608909]]\n",
      "=============\n",
      "[[ 0.        ]\n",
      " [-0.87939705]\n",
      " [ 0.47608909]]\n",
      "=============\n",
      "[[ 0.        ]\n",
      " [ 0.87939705]\n",
      " [-0.47608909]]\n"
     ]
    }
   ],
   "source": [
    "power_method(A_1, v)"
   ]
  },
  {
   "cell_type": "code",
   "execution_count": 6,
   "metadata": {},
   "outputs": [
    {
     "data": {
      "text/plain": [
       "0.9999999965828653"
      ]
     },
     "execution_count": 6,
     "metadata": {},
     "output_type": "execute_result"
    }
   ],
   "source": [
    "np.linalg.norm(np.array([[ 0.        ],  [ 0.87939705], [-0.47608909]]))"
   ]
  },
  {
   "cell_type": "code",
   "execution_count": 7,
   "metadata": {},
   "outputs": [
    {
     "name": "stderr",
     "output_type": "stream",
     "text": [
      "/Users/uedatomohiro/.pyenv/versions/anaconda3-5.1.0/lib/python3.6/site-packages/ipykernel_launcher.py:1: RuntimeWarning: invalid value encountered in true_divide\n",
      "  \"\"\"Entry point for launching an IPython kernel.\n"
     ]
    },
    {
     "data": {
      "text/plain": [
       "array([[        nan],\n",
       "       [-5.54138127],\n",
       "       [-5.54138124]])"
      ]
     },
     "execution_count": 7,
     "metadata": {},
     "output_type": "execute_result"
    }
   ],
   "source": [
    "np.dot(A_1, np.array([[ 0.        ],  [ 0.87939705], [-0.47608909]])) / np.array([[ 0.        ],  [ 0.87939705], [-0.47608909]])"
   ]
  },
  {
   "cell_type": "code",
   "execution_count": 8,
   "metadata": {
    "scrolled": true
   },
   "outputs": [
    {
     "data": {
      "text/plain": [
       "(array([ 0.54138127, -5.54138127,  1.        ]),\n",
       " array([[ 0.        ,  0.        ,  1.        ],\n",
       "        [ 0.17759186,  0.87939705,  0.        ],\n",
       "        [ 0.98410423, -0.47608909,  0.        ]]))"
      ]
     },
     "execution_count": 8,
     "metadata": {},
     "output_type": "execute_result"
    }
   ],
   "source": [
    "np.linalg.eig(A_1)"
   ]
  },
  {
   "cell_type": "markdown",
   "metadata": {},
   "source": [
    "kが十分大きいところでは上のように、互いに反対向きの大きさ1のベクトルを交互に繰り返している。\n",
    "\n",
    "このベクトルは\n",
    "\n",
    "np.linalg.eig(A_1)\n",
    "\n",
    "や\n",
    "\n",
    "np.dot(A_1, np.array([[ 0.        ],  [ 0.87939705], [-0.47608909]])) / np.array([[ 0.        ],  [ 0.87939705], [-0.47608909]]) = [[nan], [-5.54128127], [-5.54128127]]\n",
    "\n",
    "となることからわかるように、A_1の固有ベクトルであり、その固有値は-5.54138127で、固有値の中で絶対値最大である。"
   ]
  },
  {
   "cell_type": "markdown",
   "metadata": {},
   "source": [
    "## A2"
   ]
  },
  {
   "cell_type": "code",
   "execution_count": 9,
   "metadata": {
    "scrolled": true
   },
   "outputs": [
    {
     "name": "stdout",
     "output_type": "stream",
     "text": [
      "=============\n",
      "[[0.        ]\n",
      " [0.70710678]\n",
      " [0.70710678]]\n",
      "=============\n",
      "[[ 0.        ]\n",
      " [-0.31622777]\n",
      " [ 0.9486833 ]]\n",
      "=============\n",
      "[[ 0.        ]\n",
      " [-0.70710678]\n",
      " [-0.70710678]]\n",
      "=============\n",
      "[[ 0.        ]\n",
      " [ 0.31622777]\n",
      " [-0.9486833 ]]\n",
      "=============\n",
      "[[0.        ]\n",
      " [0.70710678]\n",
      " [0.70710678]]\n",
      "=============\n",
      "[[ 0.        ]\n",
      " [-0.31622777]\n",
      " [ 0.9486833 ]]\n",
      "=============\n",
      "[[ 0.        ]\n",
      " [-0.70710678]\n",
      " [-0.70710678]]\n",
      "=============\n",
      "[[ 0.        ]\n",
      " [ 0.31622777]\n",
      " [-0.9486833 ]]\n",
      "=============\n",
      "[[0.        ]\n",
      " [0.70710678]\n",
      " [0.70710678]]\n"
     ]
    }
   ],
   "source": [
    "power_method(A_2, v)"
   ]
  },
  {
   "cell_type": "code",
   "execution_count": 10,
   "metadata": {
    "scrolled": true
   },
   "outputs": [
    {
     "data": {
      "text/plain": [
       "(array([0.+1.73205081j, 0.-1.73205081j, 1.+0.        j]),\n",
       " array([[0.       +0. j, 0.       -0. j, 1.       +0. j],\n",
       "        [0.       +0.5j, 0.       -0.5j, 0.       +0. j],\n",
       "        [0.8660254+0. j, 0.8660254-0. j, 0.       +0. j]]))"
      ]
     },
     "execution_count": 10,
     "metadata": {},
     "output_type": "execute_result"
    }
   ],
   "source": [
    "np.linalg.eig(A_2)"
   ]
  },
  {
   "cell_type": "markdown",
   "metadata": {},
   "source": [
    "紙に書きます"
   ]
  }
 ],
 "metadata": {
  "kernelspec": {
   "display_name": "Python 3",
   "language": "python",
   "name": "python3"
  },
  "language_info": {
   "codemirror_mode": {
    "name": "ipython",
    "version": 3
   },
   "file_extension": ".py",
   "mimetype": "text/x-python",
   "name": "python",
   "nbconvert_exporter": "python",
   "pygments_lexer": "ipython3",
   "version": "3.7.1"
  },
  "toc": {
   "base_numbering": 1,
   "nav_menu": {},
   "number_sections": true,
   "sideBar": true,
   "skip_h1_title": false,
   "title_cell": "Table of Contents",
   "title_sidebar": "Contents",
   "toc_cell": false,
   "toc_position": {},
   "toc_section_display": true,
   "toc_window_display": false
  }
 },
 "nbformat": 4,
 "nbformat_minor": 2
}
